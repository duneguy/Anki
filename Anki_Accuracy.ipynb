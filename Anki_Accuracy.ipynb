{
 "cells": [
  {
   "cell_type": "code",
   "execution_count": 1,
   "metadata": {},
   "outputs": [],
   "source": [
    "import sys\n",
    "\n",
    "import time\n",
    "import pandas as pd\n",
    "import numpy as np\n",
    "\n",
    "\n",
    "#   paths\n",
    "ANKI_PATH = 'D:/Exams/Jupyter Notebooks/Anki Files/anki-master'\n",
    "COLLECTION_PATH = \"D:/Exams/Jupyter Notebooks/Anki Files//collection.anki2\"\n",
    "pd.options.display.float_format = '{:.0f}'.format\n",
    "sys.path.append(ANKI_PATH)\n",
    "\n",
    "import anki\n",
    "import math\n",
    "from anki import Collection\n",
    "from anki.utils import intTime\n"
   ]
  },
  {
   "cell_type": "code",
   "execution_count": 2,
   "metadata": {},
   "outputs": [],
   "source": [
    "col = Collection(COLLECTION_PATH)\n",
    "\n",
    "cards = col.db.all(\"select id,nid,did from cards\")\n",
    "\n",
    "col.close()"
   ]
  },
  {
   "cell_type": "code",
   "execution_count": 3,
   "metadata": {},
   "outputs": [],
   "source": [
    "col = Collection(COLLECTION_PATH)\n",
    "\n",
    "card_id = []\n",
    "note_id = []\n",
    "tags =[]\n",
    "\n",
    "for card in cards:\n",
    "    card_id.append(card[0])\n",
    "    note_id.append(card[1])\n",
    "    tags.append(col.db.all(\"select tags from notes where id = \" + str(card[1]))[0][0].split())\n",
    "    \n",
    "cards_w_tags = pd.DataFrame(list(zip(card_id, note_id,tags)), \n",
    "            columns =['Card_ID', 'Note_ID','Tags'])\n",
    "\n",
    "col.close()"
   ]
  },
  {
   "cell_type": "code",
   "execution_count": 4,
   "metadata": {},
   "outputs": [],
   "source": [
    "col = Collection(COLLECTION_PATH)\n",
    "\n",
    "revlog = col.db.all(\"select id,cid,ease from revlog\")\n",
    "\n",
    "col.close()"
   ]
  },
  {
   "cell_type": "code",
   "execution_count": 5,
   "metadata": {},
   "outputs": [],
   "source": [
    "date = []\n",
    "card_id = []\n",
    "ease =[]\n",
    "\n",
    "result=[]\n",
    "for card in revlog:\n",
    "    date.append(time.strftime('%Y-%m-%d', time.localtime(card[0]/1000)))\n",
    "    card_id.append(card[1])\n",
    "    ease.append(card[2])\n",
    "\n",
    "revlog_cards = pd.DataFrame(list(zip(date, card_id,ease)), \n",
    "            columns =['Date', 'Card_ID','Ease'])\n",
    "revlog_cards = revlog_cards[revlog_cards['Date'] >= '2018-01-01'] "
   ]
  },
  {
   "cell_type": "code",
   "execution_count": 6,
   "metadata": {},
   "outputs": [],
   "source": [
    "revlog_cards = pd.merge(revlog_cards, cards_w_tags, how='left', on=['Card_ID'])"
   ]
  },
  {
   "cell_type": "code",
   "execution_count": 7,
   "metadata": {},
   "outputs": [],
   "source": [
    "#revlog_cards[pd.isnull(revlog_cards).any(axis=1)]\n",
    "revlog_cards = revlog_cards[np.isfinite(revlog_cards['Note_ID'])]"
   ]
  },
  {
   "cell_type": "code",
   "execution_count": 8,
   "metadata": {},
   "outputs": [],
   "source": [
    "def f(row):\n",
    "    if row['Ease'] < 3:\n",
    "        val = 0\n",
    "    else:\n",
    "        val = 1\n",
    "    return val\n",
    "\n",
    "revlog_cards['Correct'] = revlog_cards.apply(f, axis=1)"
   ]
  },
  {
   "cell_type": "code",
   "execution_count": 9,
   "metadata": {},
   "outputs": [],
   "source": [
    "max_len = 0\n",
    "index = 0\n",
    "for item in revlog_cards['Tags']:\n",
    "    if len(item) > max_len:\n",
    "        max_len = len(item)\n",
    "    index = index+1\n"
   ]
  },
  {
   "cell_type": "code",
   "execution_count": 10,
   "metadata": {},
   "outputs": [],
   "source": [
    "revlog_cards[['Tag1','Tag2','Tag3','Tag4']] = pd.DataFrame(\n",
    "    revlog_cards.Tags.values.tolist(), index= revlog_cards.index)"
   ]
  },
  {
   "cell_type": "code",
   "execution_count": 11,
   "metadata": {},
   "outputs": [],
   "source": [
    " def exam(row):\n",
    "    if any(\"Exam7\" in s for s in row['Tags']):\n",
    "        val = 'Exam7'\n",
    "    elif any(\"Exam8\" in s for s in row['Tags']):\n",
    "        val = 'Exam8'\n",
    "    elif any(\"Exam9\" in s for s in row['Tags']):\n",
    "        val = 'Exam9'\n",
    "    else:\n",
    "        val = 'Other'\n",
    "    return val\n",
    "\n",
    "revlog_cards['Exam'] = revlog_cards.apply(exam, axis=1)"
   ]
  },
  {
   "cell_type": "markdown",
   "metadata": {},
   "source": [
    "Tag_list = revlog_cards['Tag1'].unique().tolist() + revlog_cards['Tag2'].unique().tolist() + revlog_cards[\n",
    "    'Tag3'].unique().tolist() + revlog_cards['Tag4'].unique().tolist()\n",
    "Tag_list = list(set(Tag_list))"
   ]
  },
  {
   "cell_type": "code",
   "execution_count": 28,
   "metadata": {},
   "outputs": [],
   "source": [
    "from bokeh.layouts import row, column\n",
    "from bokeh.models import Slider, Select, DatetimeTickFormatter, HoverTool\n",
    "from bokeh.models.widgets import DateSlider\n",
    "from bokeh.plotting import figure, output_file, show\n",
    "from bokeh.io import curdoc\n",
    "from bokeh.palettes import Dark2_5 as palette\n",
    "import itertools"
   ]
  },
  {
   "cell_type": "code",
   "execution_count": 35,
   "metadata": {
    "scrolled": false
   },
   "outputs": [
    {
     "name": "stderr",
     "output_type": "stream",
     "text": [
      "D:\\ProgramData\\Anaconda3\\lib\\site-packages\\ipykernel_launcher.py:32: RuntimeWarning: invalid value encountered in longlong_scalars\n"
     ]
    }
   ],
   "source": [
    "from datetime import date, timedelta\n",
    "\n",
    "#exam_select = Select(value='Exam8', title='City', options=['Exam7','Exam8','Exam9'])\n",
    "#ending_date = DateRangeSlider(title=\"Ending Date\", value=datetime.today().strftime('%Y-%m-%d'),\n",
    "#                     start='2018-01-01', end=datetime.today().strftime('%Y-%m-%d'))\n",
    "\n",
    "#ending_date_slider = DateSlider(title=\"Ending Date\", start=date(2019, 1, 1), end=date.today(),\n",
    "#                                value=date.today(), step=1)\n",
    "max_days = Slider(title='Lookback period',start = 0,end=200,value=10, step=1)\n",
    "\n",
    "\n",
    "#Setting up x and y data\n",
    "datelist = pd.date_range(start='7-3-2019',end=date.today(), freq='D')\n",
    "\n",
    "data_subset = revlog_cards[revlog_cards['Exam'] == 'Exam8']\n",
    "tags = pd.unique(data_subset[['Tag1', 'Tag2','Tag3','Tag4']].values.ravel('K'))\n",
    "tags = [x for x in tags if x != None]\n",
    "\n",
    "acc_val = []\n",
    "acc_tag = []\n",
    "acc_date = []\n",
    "\n",
    "for date in datelist:\n",
    "    for tag in tags:\n",
    "        data = data_subset[(data_subset['Date'] > (date - timedelta(days=max_days.value)).strftime('%Y-%m-%d')) \n",
    "                           & (data_subset['Date'] <= date.strftime('%Y-%m-%d'))]\n",
    "        data = data[data['Tag1'].str.contains(tag) | data['Tag2'].str.contains(tag) |\n",
    "           data['Tag3'].str.contains(tag) | data['Tag4'].str.contains(tag)]\n",
    "        \n",
    "        acc_date.append(date)\n",
    "        acc_tag.append(tag)\n",
    "        acc_val.append(data['Correct'].sum()/len(data))\n",
    "\n",
    "final = pd.DataFrame(list(zip(acc_date, acc_tag,acc_val)), columns =['Date', 'Tag','Value'])\n",
    "\n",
    "\n",
    "\n",
    "#TOOLTIPS = [\n",
    "#    ('Paper', \"$name\"),\n",
    "#    ('Accuracy', '@y'),\n",
    "#    ('Date', \"@x{%Y-%m-%d}\"),\n",
    "   # (\"y\", \"$y\"),\n",
    "   # (\"value\", \"@image\"),\n",
    "   # ('squared', '@squared')\n",
    "#    ]\n",
    "\n",
    "\n",
    "\n",
    "\n",
    "# Set up plot\n",
    "plot = figure(plot_height=900, plot_width=1500, title=\"Topic Accuracy\",\n",
    "              tools=\"pan,reset,wheel_zoom,box_zoom\",\n",
    "              y_range=[-0.1, 1.2])\n",
    "\n",
    "\n",
    "\n",
    "#colors has a list of colors which can be used in plots \n",
    "colors = itertools.cycle(palette)\n",
    "\n",
    "for tag in tags:\n",
    "    plot.line(datelist, final[final['Tag'] == tag]['Value'], \n",
    "              line_width=2, line_alpha=0.6,legend=tag,color=next(colors), name = tag)\n",
    "\n",
    "plot.legend.location = \"top_left\"\n",
    "plot.legend.click_policy=\"hide\"\n",
    "plot.xaxis.formatter = DatetimeTickFormatter(days=['%m/%d'])\n",
    "\n",
    "\n",
    "# Hover tool\n",
    "plot.add_tools(HoverTool(\n",
    "    tooltips=[\n",
    "        ('Paper', '$name'), \n",
    "        ('Accuracy', '@y{%0.4}'),\n",
    "        ('Date', '@x{%F}')\n",
    "    ],\n",
    "    formatters={'x': 'datetime'}\n",
    "))\n",
    "\n",
    "\n",
    "\n",
    "inputs = row(column(max_days),plot)\n",
    "\n",
    "show(inputs)"
   ]
  }
 ],
 "metadata": {
  "kernelspec": {
   "display_name": "Python 3",
   "language": "python",
   "name": "python3"
  },
  "language_info": {
   "codemirror_mode": {
    "name": "ipython",
    "version": 3
   },
   "file_extension": ".py",
   "mimetype": "text/x-python",
   "name": "python",
   "nbconvert_exporter": "python",
   "pygments_lexer": "ipython3",
   "version": "3.7.1"
  }
 },
 "nbformat": 4,
 "nbformat_minor": 2
}
