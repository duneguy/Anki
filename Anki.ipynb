{
 "cells": [
  {
   "cell_type": "code",
   "execution_count": 6,
   "metadata": {},
   "outputs": [],
   "source": [
    "import sys\n",
    "#   paths\n",
    "ANKI_PATH = 'C:/Users/plk2033/Documents/PythonDocs/anki-master'\n",
    "COLLECTION_PATH = \"C:/Users/plk2033/Documents/PythonDocs/collection.anki2\"\n",
    "\n",
    "sys.path.append(ANKI_PATH)\n",
    "import anki\n",
    "import time\n",
    "from anki import Collection\n",
    "from anki.utils import intTime"
   ]
  },
  {
   "cell_type": "code",
   "execution_count": 56,
   "metadata": {},
   "outputs": [],
   "source": [
    "col = Collection(COLLECTION_PATH)\n",
    "\n",
    "dID_7 = col.decks.id('Exam 7')\n",
    "dID_9 = col.decks.id('Exam 9')\n",
    "\n",
    "##Exam 7\n",
    "query=\"select id,nid,did from cards where did = \" + str(dID_7)\n",
    "Exam_7_cards = col.db.all(query)\n",
    "\n",
    "##Exam 9\n",
    "query=\"select id,nid,did from cards where did = \" + str(dID_9)\n",
    "Exam_9_cards = col.db.all(query)\n",
    "\n",
    "col.close()"
   ]
  },
  {
   "cell_type": "code",
   "execution_count": 63,
   "metadata": {},
   "outputs": [
    {
     "data": {
      "text/plain": [
       "[]"
      ]
     },
     "execution_count": 63,
     "metadata": {},
     "output_type": "execute_result"
    }
   ],
   "source": [
    "col.findCards(\"cid:1482373816799\")"
   ]
  },
  {
   "cell_type": "code",
   "execution_count": 72,
   "metadata": {},
   "outputs": [
    {
     "ename": "AttributeError",
     "evalue": "'NoneType' object has no attribute 'all'",
     "output_type": "error",
     "traceback": [
      "\u001b[1;31m---------------------------------------------------------------------------\u001b[0m",
      "\u001b[1;31mAttributeError\u001b[0m                            Traceback (most recent call last)",
      "\u001b[1;32m<ipython-input-72-bc2d99c20aef>\u001b[0m in \u001b[0;36m<module>\u001b[1;34m()\u001b[0m\n\u001b[0;32m      1\u001b[0m \u001b[0mquery\u001b[0m\u001b[1;33m=\u001b[0m\u001b[1;34m\"select * from revlog where cid = 1482373816799\"\u001b[0m\u001b[1;33m\u001b[0m\u001b[0m\n\u001b[1;32m----> 2\u001b[1;33m \u001b[0mresult\u001b[0m \u001b[1;33m=\u001b[0m \u001b[0mcol\u001b[0m\u001b[1;33m.\u001b[0m\u001b[0mdb\u001b[0m\u001b[1;33m.\u001b[0m\u001b[0mall\u001b[0m\u001b[1;33m(\u001b[0m\u001b[0mquery\u001b[0m\u001b[1;33m)\u001b[0m\u001b[1;33m\u001b[0m\u001b[0m\n\u001b[0m",
      "\u001b[1;31mAttributeError\u001b[0m: 'NoneType' object has no attribute 'all'"
     ]
    }
   ],
   "source": [
    "query=\"select * from revlog where cid = 1482373816799\"\n",
    "result = col.db.all(query)"
   ]
  },
  {
   "cell_type": "code",
   "execution_count": 25,
   "metadata": {},
   "outputs": [
    {
     "data": {
      "text/plain": [
       "['Ch23',\n",
       " 'Ch6',\n",
       " 'Patrik',\n",
       " 'Sahasrabuddhe',\n",
       " 'Cummins',\n",
       " 'Ch7',\n",
       " 'Teng&Perkins',\n",
       " 'marked',\n",
       " 'Source',\n",
       " 'ISO',\n",
       " 'Coval',\n",
       " 'CATBonds',\n",
       " 'Capital',\n",
       " 'Panning',\n",
       " 'Robertson',\n",
       " 'NCCI-1',\n",
       " 'NCCI-2',\n",
       " 'Exam9',\n",
       " 'Verrall',\n",
       " 'Exam',\n",
       " 'Mack1994',\n",
       " 'BKM',\n",
       " 'Goldfarb',\n",
       " 'ASOP12',\n",
       " 'Bailey&Simon',\n",
       " 'Bodoff',\n",
       " 'RF',\n",
       " 'Clark-8',\n",
       " 'Exam8',\n",
       " '7',\n",
       " 'RobbinUW',\n",
       " 'CH9',\n",
       " 'Hurlimann',\n",
       " 'CH11',\n",
       " 'Shapland',\n",
       " 'Ch12',\n",
       " 'Ch10',\n",
       " 'Ch11',\n",
       " 'Ch16',\n",
       " 'Ch14',\n",
       " 'Ch15',\n",
       " 'Couret&Venter',\n",
       " 'Fisher',\n",
       " 'Ch1',\n",
       " 'BrehmCh5',\n",
       " 'Ch3',\n",
       " 'BrehmCh3',\n",
       " 'BrehmCh2',\n",
       " 'BrehmCh1',\n",
       " 'Feldblum',\n",
       " 'Ch8',\n",
       " 'Ch9',\n",
       " 'Kreps',\n",
       " 'Meyers',\n",
       " 'Marshall',\n",
       " 'GLM',\n",
       " 'Brehm',\n",
       " 'Taylor',\n",
       " 'Brosius',\n",
       " 'Mack2000',\n",
       " 'Clark',\n",
       " 'Exam7',\n",
       " 'McClenahan',\n",
       " 'Venter',\n",
       " 'Mahler1',\n",
       " 'Ch2',\n",
       " 'Mango',\n",
       " 'Grossi',\n",
       " 'Bahnemann',\n",
       " 'BrehmCh4',\n",
       " 'Questions',\n",
       " 'RobbinIRR',\n",
       " 'Ferrari',\n",
       " 'Butsic',\n",
       " 'Siewert',\n",
       " 'Bernegger']"
      ]
     },
     "execution_count": 25,
     "metadata": {},
     "output_type": "execute_result"
    }
   ],
   "source": [
    "col.tags.all() "
   ]
  }
 ],
 "metadata": {
  "kernelspec": {
   "display_name": "Python 3",
   "language": "python",
   "name": "python3"
  },
  "language_info": {
   "codemirror_mode": {
    "name": "ipython",
    "version": 3
   },
   "file_extension": ".py",
   "mimetype": "text/x-python",
   "name": "python",
   "nbconvert_exporter": "python",
   "pygments_lexer": "ipython3",
   "version": "3.6.3"
  }
 },
 "nbformat": 4,
 "nbformat_minor": 2
}
