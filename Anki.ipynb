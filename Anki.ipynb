{
 "cells": [
  {
   "cell_type": "code",
   "execution_count": 6,
   "metadata": {},
   "outputs": [],
   "source": [
    "import sys\n",
    "#   paths\n",
    "ANKI_PATH = 'C:/Users/plk2033/Documents/PythonDocs/anki-master'\n",
    "COLLECTION_PATH = \"C:/Users/plk2033/Documents/PythonDocs/collection.anki2\"\n",
    "\n",
    "sys.path.append(ANKI_PATH)\n",
    "import anki\n",
    "import time\n",
    "from anki import Collection\n",
    "from anki.utils import intTime"
   ]
  },
  {
   "cell_type": "code",
   "execution_count": 56,
   "metadata": {},
   "outputs": [],
   "source": [
    "col = Collection(COLLECTION_PATH)\n",
    "\n",
    "dID_7 = col.decks.id('Exam 7')\n",
    "dID_9 = col.decks.id('Exam 9')\n",
    "\n",
    "##Exam 7\n",
    "query=\"select id,nid,did from cards where did = \" + str(dID_7)\n",
    "Exam_7_cards = col.db.all(query)\n",
    "\n",
    "##Exam 9\n",
    "query=\"select id,nid,did from cards where did = \" + str(dID_9)\n",
    "Exam_9_cards = col.db.all(query)\n",
    "\n",
    "col.close()"
   ]
  },
  {
   "cell_type": "code",
   "execution_count": 62,
   "metadata": {},
   "outputs": [
    {
     "data": {
      "text/plain": [
       "(1482373816799, 1482373816782, 1510787588680)"
      ]
     },
     "execution_count": 62,
     "metadata": {},
     "output_type": "execute_result"
    }
   ],
   "source": [
    "Exam_7_cards"
   ]
  },
  {
   "cell_type": "code",
   "execution_count": 25,
   "metadata": {},
   "outputs": [
    {
     "data": {
      "text/plain": [
       "['Ch23',\n",
       " 'Ch6',\n",
       " 'Patrik',\n",
       " 'Sahasrabuddhe',\n",
       " 'Cummins',\n",
       " 'Ch7',\n",
       " 'Teng&Perkins',\n",
       " 'marked',\n",
       " 'Source',\n",
       " 'ISO',\n",
       " 'Coval',\n",
       " 'CATBonds',\n",
       " 'Capital',\n",
       " 'Panning',\n",
       " 'Robertson',\n",
       " 'NCCI-1',\n",
       " 'NCCI-2',\n",
       " 'Exam9',\n",
       " 'Verrall',\n",
       " 'Exam',\n",
       " 'Mack1994',\n",
       " 'BKM',\n",
       " 'Goldfarb',\n",
       " 'ASOP12',\n",
       " 'Bailey&Simon',\n",
       " 'Bodoff',\n",
       " 'RF',\n",
       " 'Clark-8',\n",
       " 'Exam8',\n",
       " '7',\n",
       " 'RobbinUW',\n",
       " 'CH9',\n",
       " 'Hurlimann',\n",
       " 'CH11',\n",
       " 'Shapland',\n",
       " 'Ch12',\n",
       " 'Ch10',\n",
       " 'Ch11',\n",
       " 'Ch16',\n",
       " 'Ch14',\n",
       " 'Ch15',\n",
       " 'Couret&Venter',\n",
       " 'Fisher',\n",
       " 'Ch1',\n",
       " 'BrehmCh5',\n",
       " 'Ch3',\n",
       " 'BrehmCh3',\n",
       " 'BrehmCh2',\n",
       " 'BrehmCh1',\n",
       " 'Feldblum',\n",
       " 'Ch8',\n",
       " 'Ch9',\n",
       " 'Kreps',\n",
       " 'Meyers',\n",
       " 'Marshall',\n",
       " 'GLM',\n",
       " 'Brehm',\n",
       " 'Taylor',\n",
       " 'Brosius',\n",
       " 'Mack2000',\n",
       " 'Clark',\n",
       " 'Exam7',\n",
       " 'McClenahan',\n",
       " 'Venter',\n",
       " 'Mahler1',\n",
       " 'Ch2',\n",
       " 'Mango',\n",
       " 'Grossi',\n",
       " 'Bahnemann',\n",
       " 'BrehmCh4',\n",
       " 'Questions',\n",
       " 'RobbinIRR',\n",
       " 'Ferrari',\n",
       " 'Butsic',\n",
       " 'Siewert',\n",
       " 'Bernegger']"
      ]
     },
     "execution_count": 25,
     "metadata": {},
     "output_type": "execute_result"
    }
   ],
   "source": [
    "col.tags.all() "
   ]
  }
 ],
 "metadata": {
  "kernelspec": {
   "display_name": "Python 3",
   "language": "python",
   "name": "python3"
  },
  "language_info": {
   "codemirror_mode": {
    "name": "ipython",
    "version": 3
   },
   "file_extension": ".py",
   "mimetype": "text/x-python",
   "name": "python",
   "nbconvert_exporter": "python",
   "pygments_lexer": "ipython3",
   "version": "3.6.3"
  }
 },
 "nbformat": 4,
 "nbformat_minor": 2
}
