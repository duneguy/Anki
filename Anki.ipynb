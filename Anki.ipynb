{
 "cells": [
  {
   "cell_type": "code",
   "execution_count": 99,
   "metadata": {},
   "outputs": [],
   "source": [
    "import sys\n",
    "#   paths\n",
    "ANKI_PATH = 'C:/Users/plk2033/Documents/PythonDocs/anki-master'\n",
    "COLLECTION_PATH = \"C:/Users/plk2033/Documents/PythonDocs/collection.anki2\"\n",
    "\n",
    "sys.path.append(ANKI_PATH)\n",
    "import anki\n",
    "import time\n",
    "import pandas as pd\n",
    "from anki import Collection\n",
    "from anki.utils import intTime"
   ]
  },
  {
   "cell_type": "code",
   "execution_count": 79,
   "metadata": {},
   "outputs": [],
   "source": [
    "col = Collection(COLLECTION_PATH)\n",
    "\n",
    "dID_7 = col.decks.id('Exam 7')\n",
    "dID_9 = col.decks.id('Exam 9')\n",
    "\n",
    "##Exam 7\n",
    "query= \"select id,nid,did from cards where did = \" + str(dID_7)\n",
    "Exam_7_cards = col.db.all(query)\n",
    "\n",
    "##Exam 9\n",
    "query= \"select id,nid,did from cards where did = \" + str(dID_9)\n",
    "Exam_9_cards = col.db.all(query)\n",
    "\n",
    "col.close()"
   ]
  },
  {
   "cell_type": "code",
   "execution_count": 121,
   "metadata": {},
   "outputs": [],
   "source": [
    "col = Collection(COLLECTION_PATH)\n",
    "\n",
    "card_id = []\n",
    "note_id = []\n",
    "tags =[]\n",
    "\n",
    "for card in Exam_7_cards:\n",
    "    card_id.append(card[0])\n",
    "    note_id.append(card[1])\n",
    "    tags.append(col.db.all(\"select tags from notes where id = \" + str(card[1]))[0][0].split())\n",
    "    \n",
    "Exam7_cards = pd.DataFrame(list(zip(card_id, note_id,tags)), \n",
    "            columns =['Card_ID', 'Note_ID','Tags'])\n",
    "\n",
    "card_id = []\n",
    "note_id = []\n",
    "tags =[]\n",
    "\n",
    "for card in Exam_9_cards:\n",
    "    card_id.append(card[0])\n",
    "    note_id.append(card[1])\n",
    "    tags.append(col.db.all(\"select tags from notes where id = \" + str(card[1]))[0][0].split())\n",
    "    \n",
    "Exam9_cards = pd.DataFrame(list(zip(card_id, note_id,tags)), \n",
    "            columns =['Card_ID', 'Note_ID','Tags'])\n",
    "col.close()"
   ]
  },
  {
   "cell_type": "code",
   "execution_count": 35,
   "metadata": {},
   "outputs": [],
   "source": [
    "col = Collection(COLLECTION_PATH)\n",
    "\n",
    "query=\"select * from revlog where cid =\" +str(Exam_7_cards[0][0])\n",
    "result = col.db.all(query)\n",
    "\n",
    "col.close()"
   ]
  }
 ],
 "metadata": {
  "kernelspec": {
   "display_name": "Python 3",
   "language": "python",
   "name": "python3"
  },
  "language_info": {
   "codemirror_mode": {
    "name": "ipython",
    "version": 3
   },
   "file_extension": ".py",
   "mimetype": "text/x-python",
   "name": "python",
   "nbconvert_exporter": "python",
   "pygments_lexer": "ipython3",
   "version": "3.6.3"
  }
 },
 "nbformat": 4,
 "nbformat_minor": 2
}
